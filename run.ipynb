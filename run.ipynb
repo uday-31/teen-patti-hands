{
 "cells": [
  {
   "cell_type": "code",
   "execution_count": 1,
   "source": [
    "from code.simulation import runSimulations, saveRaw, loadRaw, clean, saveCleaned, simulationsRun\n",
    "import pandas as pd"
   ],
   "outputs": [],
   "metadata": {}
  },
  {
   "cell_type": "code",
   "execution_count": 2,
   "source": [
    "sim = runSimulations(8, 20000000)"
   ],
   "outputs": [
    {
     "output_type": "stream",
     "name": "stdout",
     "text": [
      "Running 20000000 simulations for a game of 8 players\n"
     ]
    },
    {
     "output_type": "display_data",
     "data": {
      "text/plain": [
       "  0%|          | 0/20000000 [00:00<?, ?it/s]"
      ],
      "application/vnd.jupyter.widget-view+json": {
       "version_major": 2,
       "version_minor": 0,
       "model_id": "cfed70236a39497b84f13d73e9d3538f"
      }
     },
     "metadata": {}
    }
   ],
   "metadata": {}
  },
  {
   "cell_type": "code",
   "execution_count": 3,
   "source": [
    "saveRaw(sim, 8)\n",
    "sim_cleaned = clean(sim, 8)\n",
    "saveCleaned(sim_cleaned, 8)\n",
    "simulationsRun(8)"
   ],
   "outputs": [
    {
     "output_type": "stream",
     "name": "stdout",
     "text": [
      "Raw data file saved at results/winrate_8_raw.pickle!\n",
      "Converted dictionary to DataFrame and cleaned it!\n",
      "Cleaned data file saved at results/winrate_8_cleaned.csv!\n",
      "20000000 simulations have been run for 8 players\n"
     ]
    }
   ],
   "metadata": {}
  },
  {
   "cell_type": "code",
   "execution_count": 5,
   "source": [
    "sim_cleaned"
   ],
   "outputs": [
    {
     "output_type": "execute_result",
     "data": {
      "text/plain": [
       "               name  wins  ties  total_games  winrate\n",
       "AD, AH, AS  A trail  7231     0         7231   1.0000\n",
       "AC, AH, AS  A trail  7124     0         7124   1.0000\n",
       "AD, AC, AS  A trail  7392     0         7392   1.0000\n",
       "AD, AC, AH  A trail  7121     0         7121   1.0000\n",
       "KD, KS, KH  K trail  7130     0         7139   0.9987\n",
       "...             ...   ...   ...          ...      ...\n",
       "2S, 5D, 3C    5-top     0     0         7211   0.0000\n",
       "5H, 2C, 3S    5-top     0     0         7187   0.0000\n",
       "5C, 2D, 3C    5-top     0     0         7152   0.0000\n",
       "2S, 5C, 3C    5-top     0     0         7234   0.0000\n",
       "5D, 2C, 3H    5-top     0     0         7208   0.0000\n",
       "\n",
       "[22100 rows x 5 columns]"
      ],
      "text/html": [
       "<div>\n",
       "<style scoped>\n",
       "    .dataframe tbody tr th:only-of-type {\n",
       "        vertical-align: middle;\n",
       "    }\n",
       "\n",
       "    .dataframe tbody tr th {\n",
       "        vertical-align: top;\n",
       "    }\n",
       "\n",
       "    .dataframe thead th {\n",
       "        text-align: right;\n",
       "    }\n",
       "</style>\n",
       "<table border=\"1\" class=\"dataframe\">\n",
       "  <thead>\n",
       "    <tr style=\"text-align: right;\">\n",
       "      <th></th>\n",
       "      <th>name</th>\n",
       "      <th>wins</th>\n",
       "      <th>ties</th>\n",
       "      <th>total_games</th>\n",
       "      <th>winrate</th>\n",
       "    </tr>\n",
       "  </thead>\n",
       "  <tbody>\n",
       "    <tr>\n",
       "      <th>AD, AH, AS</th>\n",
       "      <td>A trail</td>\n",
       "      <td>7231</td>\n",
       "      <td>0</td>\n",
       "      <td>7231</td>\n",
       "      <td>1.0000</td>\n",
       "    </tr>\n",
       "    <tr>\n",
       "      <th>AC, AH, AS</th>\n",
       "      <td>A trail</td>\n",
       "      <td>7124</td>\n",
       "      <td>0</td>\n",
       "      <td>7124</td>\n",
       "      <td>1.0000</td>\n",
       "    </tr>\n",
       "    <tr>\n",
       "      <th>AD, AC, AS</th>\n",
       "      <td>A trail</td>\n",
       "      <td>7392</td>\n",
       "      <td>0</td>\n",
       "      <td>7392</td>\n",
       "      <td>1.0000</td>\n",
       "    </tr>\n",
       "    <tr>\n",
       "      <th>AD, AC, AH</th>\n",
       "      <td>A trail</td>\n",
       "      <td>7121</td>\n",
       "      <td>0</td>\n",
       "      <td>7121</td>\n",
       "      <td>1.0000</td>\n",
       "    </tr>\n",
       "    <tr>\n",
       "      <th>KD, KS, KH</th>\n",
       "      <td>K trail</td>\n",
       "      <td>7130</td>\n",
       "      <td>0</td>\n",
       "      <td>7139</td>\n",
       "      <td>0.9987</td>\n",
       "    </tr>\n",
       "    <tr>\n",
       "      <th>...</th>\n",
       "      <td>...</td>\n",
       "      <td>...</td>\n",
       "      <td>...</td>\n",
       "      <td>...</td>\n",
       "      <td>...</td>\n",
       "    </tr>\n",
       "    <tr>\n",
       "      <th>2S, 5D, 3C</th>\n",
       "      <td>5-top</td>\n",
       "      <td>0</td>\n",
       "      <td>0</td>\n",
       "      <td>7211</td>\n",
       "      <td>0.0000</td>\n",
       "    </tr>\n",
       "    <tr>\n",
       "      <th>5H, 2C, 3S</th>\n",
       "      <td>5-top</td>\n",
       "      <td>0</td>\n",
       "      <td>0</td>\n",
       "      <td>7187</td>\n",
       "      <td>0.0000</td>\n",
       "    </tr>\n",
       "    <tr>\n",
       "      <th>5C, 2D, 3C</th>\n",
       "      <td>5-top</td>\n",
       "      <td>0</td>\n",
       "      <td>0</td>\n",
       "      <td>7152</td>\n",
       "      <td>0.0000</td>\n",
       "    </tr>\n",
       "    <tr>\n",
       "      <th>2S, 5C, 3C</th>\n",
       "      <td>5-top</td>\n",
       "      <td>0</td>\n",
       "      <td>0</td>\n",
       "      <td>7234</td>\n",
       "      <td>0.0000</td>\n",
       "    </tr>\n",
       "    <tr>\n",
       "      <th>5D, 2C, 3H</th>\n",
       "      <td>5-top</td>\n",
       "      <td>0</td>\n",
       "      <td>0</td>\n",
       "      <td>7208</td>\n",
       "      <td>0.0000</td>\n",
       "    </tr>\n",
       "  </tbody>\n",
       "</table>\n",
       "<p>22100 rows × 5 columns</p>\n",
       "</div>"
      ]
     },
     "metadata": {},
     "execution_count": 5
    }
   ],
   "metadata": {}
  },
  {
   "cell_type": "code",
   "execution_count": 6,
   "source": [
    "sim_cleaned[sim_cleaned['winrate']>=0.5]['name'].unique().tolist()"
   ],
   "outputs": [
    {
     "output_type": "execute_result",
     "data": {
      "text/plain": [
       "['A trail',\n",
       " 'K trail',\n",
       " 'Q trail',\n",
       " 'J trail',\n",
       " '10 trail',\n",
       " '9 trail',\n",
       " '8 trail',\n",
       " '7 trail',\n",
       " '6 trail',\n",
       " '5 trail',\n",
       " '4 trail',\n",
       " '3 trail',\n",
       " '2 trail',\n",
       " 'A-K-Q straight flush',\n",
       " 'A-2-3 straight flush',\n",
       " 'K-Q-J straight flush',\n",
       " 'Q-J-10 straight flush',\n",
       " 'J-10-9 straight flush',\n",
       " '10-9-8 straight flush',\n",
       " '9-8-7 straight flush',\n",
       " '8-7-6 straight flush',\n",
       " '7-6-5 straight flush',\n",
       " '6-5-4 straight flush',\n",
       " '5-4-3 straight flush',\n",
       " '4-3-2 straight flush',\n",
       " 'A-K-Q straight',\n",
       " 'A-2-3 straight',\n",
       " 'K-Q-J straight',\n",
       " 'Q-J-10 straight',\n",
       " 'J-10-9 straight',\n",
       " '10-9-8 straight',\n",
       " '9-8-7 straight',\n",
       " '8-7-6 straight',\n",
       " '7-6-5 straight',\n",
       " '6-5-4 straight',\n",
       " '5-4-3 straight',\n",
       " '4-3-2 straight',\n",
       " 'A-top flush',\n",
       " 'K-top flush',\n",
       " 'Q-top flush',\n",
       " 'J-top flush',\n",
       " '10-top flush',\n",
       " '9-top flush',\n",
       " '8-top flush',\n",
       " '7-top flush',\n",
       " '6-top flush',\n",
       " '5-top flush',\n",
       " 'A pair',\n",
       " 'K pair']"
      ]
     },
     "metadata": {},
     "execution_count": 6
    }
   ],
   "metadata": {}
  },
  {
   "cell_type": "code",
   "execution_count": null,
   "source": [],
   "outputs": [],
   "metadata": {}
  }
 ],
 "metadata": {
  "orig_nbformat": 4,
  "language_info": {
   "name": "python",
   "version": "3.7.10",
   "mimetype": "text/x-python",
   "codemirror_mode": {
    "name": "ipython",
    "version": 3
   },
   "pygments_lexer": "ipython3",
   "nbconvert_exporter": "python",
   "file_extension": ".py"
  },
  "kernelspec": {
   "name": "python3",
   "display_name": "Python 3.7.10 64-bit ('base': conda)"
  },
  "interpreter": {
   "hash": "ca1c830a10ba29c5100ad164ea2a1db1cddd11e374eab40281c0b03d7a83cd65"
  }
 },
 "nbformat": 4,
 "nbformat_minor": 2
}