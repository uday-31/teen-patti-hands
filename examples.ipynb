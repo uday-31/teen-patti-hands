{
 "cells": [
  {
   "cell_type": "markdown",
   "source": [
    "# Cards and Decks\n",
    "The Card class can be used to make cards, and the Deck class can be used to make a deck using these cards."
   ],
   "metadata": {}
  },
  {
   "cell_type": "code",
   "execution_count": 1,
   "source": [
    "from code.cards import Card, Deck"
   ],
   "outputs": [],
   "metadata": {}
  },
  {
   "cell_type": "code",
   "execution_count": 2,
   "source": [
    "# Creating a card\n",
    "aceSpades = Card('S', 'A')"
   ],
   "outputs": [],
   "metadata": {}
  },
  {
   "cell_type": "code",
   "execution_count": 3,
   "source": [
    "# Printing the full name of the card\n",
    "aceSpades.printCard()"
   ],
   "outputs": [
    {
     "output_type": "stream",
     "name": "stdout",
     "text": [
      "Ace of Spades\n"
     ]
    }
   ],
   "metadata": {}
  },
  {
   "cell_type": "code",
   "execution_count": 4,
   "source": [
    "# Getting the shorthand of the card\n",
    "aceSpades.getShorthand()"
   ],
   "outputs": [
    {
     "output_type": "execute_result",
     "data": {
      "text/plain": [
       "'AS'"
      ]
     },
     "metadata": {},
     "execution_count": 4
    }
   ],
   "metadata": {}
  },
  {
   "cell_type": "code",
   "execution_count": 12,
   "source": [
    "# Creating a deck\n",
    "deck = Deck()\n",
    "\n",
    "cards = []\n",
    "for card in deck.getDeck():\n",
    "    cards.append(card.getShorthand())\n",
    "\n",
    "print(cards)\n",
    "print(\"Size of deck:\",deck.size)"
   ],
   "outputs": [
    {
     "output_type": "stream",
     "name": "stdout",
     "text": [
      "['2S', '2H', '2D', '2C', '3S', '3H', '3D', '3C', '4S', '4H', '4D', '4C', '5S', '5H', '5D', '5C', '6S', '6H', '6D', '6C', '7S', '7H', '7D', '7C', '8S', '8H', '8D', '8C', '9S', '9H', '9D', '9C', '10S', '10H', '10D', '10C', 'JS', 'JH', 'JD', 'JC', 'QS', 'QH', 'QD', 'QC', 'KS', 'KH', 'KD', 'KC', 'AS', 'AH', 'AD', 'AC']\n",
      "Size of deck: 52\n"
     ]
    }
   ],
   "metadata": {}
  },
  {
   "cell_type": "code",
   "execution_count": 13,
   "source": [
    "# Drawing 20 cards\n",
    "print(\"Drawing 20 cards\")\n",
    "drawn = []\n",
    "left = []\n",
    "for card in deck.drawCards(20):\n",
    "    drawn.append(card.getShorthand())\n",
    "for card in deck.getDeck():\n",
    "    left.append(card.getShorthand())\n",
    "print(\"Cards drawn:\", drawn)\n",
    "print(\"Deck remaining:\", left)\n",
    "print(\"Deck size remaining:\", deck.size)"
   ],
   "outputs": [
    {
     "output_type": "stream",
     "name": "stdout",
     "text": [
      "Drawing 20 cards\n",
      "Cards drawn: ['AC', 'AD', 'AH', 'AS', 'KC', 'KD', 'KH', 'KS', 'QC', 'QD', 'QH', 'QS', 'JC', 'JD', 'JH', 'JS', '10C', '10D', '10H', '10S']\n",
      "Deck remaining: ['2S', '2H', '2D', '2C', '3S', '3H', '3D', '3C', '4S', '4H', '4D', '4C', '5S', '5H', '5D', '5C', '6S', '6H', '6D', '6C', '7S', '7H', '7D', '7C', '8S', '8H', '8D', '8C', '9S', '9H', '9D', '9C']\n",
      "Deck size remaining: 32\n"
     ]
    }
   ],
   "metadata": {}
  },
  {
   "cell_type": "markdown",
   "source": [
    "# Simulating a game\n",
    "A single game can be simulated using the Game class."
   ],
   "metadata": {}
  },
  {
   "cell_type": "code",
   "execution_count": 29,
   "source": [
    "from code.game import Game\n",
    "%load_ext autoreload\n",
    "%autoreload 2"
   ],
   "outputs": [
    {
     "output_type": "stream",
     "name": "stdout",
     "text": [
      "The autoreload extension is already loaded. To reload it, use:\n",
      "  %reload_ext autoreload\n"
     ]
    }
   ],
   "metadata": {}
  },
  {
   "cell_type": "code",
   "execution_count": 53,
   "source": [
    "# Creating a game of 5 players and generate hands\n",
    "game = Game(5)"
   ],
   "outputs": [],
   "metadata": {}
  },
  {
   "cell_type": "code",
   "execution_count": 56,
   "source": [
    "# Displaying the hands\n",
    "i=1\n",
    "for hand in game.getHands():\n",
    "    cards = []\n",
    "    for card in hand:\n",
    "        cards.append(card)\n",
    "    print(f\"Cards for player {i}:\",cards)\n",
    "    i+=1"
   ],
   "outputs": [
    {
     "output_type": "stream",
     "name": "stdout",
     "text": [
      "Cards for player 1: ['6C', '7C', '7D']\n",
      "Cards for player 2: ['JC', '3S', 'AC']\n",
      "Cards for player 3: ['KS', '6H', '4S']\n",
      "Cards for player 4: ['2S', '4D', '8D']\n",
      "Cards for player 5: ['KH', '10H', 'KC']\n"
     ]
    }
   ],
   "metadata": {}
  },
  {
   "cell_type": "code",
   "execution_count": 57,
   "source": [
    "# Simulate a single game\n",
    "results = game.simulateGame(saveResults=True)\n",
    "game.printResults()"
   ],
   "outputs": [
    {
     "output_type": "stream",
     "name": "stdout",
     "text": [
      "['6C', '7C', '7D']: lose\n",
      "['JC', '3S', 'AC']: lose\n",
      "['KS', '6H', '4S']: lose\n",
      "['2S', '4D', '8D']: lose\n",
      "['KH', '10H', 'KC']: win\n"
     ]
    }
   ],
   "metadata": {}
  },
  {
   "cell_type": "markdown",
   "source": [
    "# Running Monte Carlo simulations\n",
    "Functions from simulation.py can be used to run simulations, and manipulate the results."
   ],
   "metadata": {}
  },
  {
   "cell_type": "code",
   "execution_count": 7,
   "source": [
    "from code.simulation import runSimulations, saveRaw, loadRaw, clean, saveCleaned, simulationsRun\n",
    "import pandas as pd"
   ],
   "outputs": [],
   "metadata": {}
  },
  {
   "cell_type": "code",
   "execution_count": 263,
   "source": [
    "# Running 1000000 simulations for a game of 5 players\n",
    "sim = runSimulations(5, 1000000)"
   ],
   "outputs": [
    {
     "output_type": "stream",
     "name": "stdout",
     "text": [
      "Running 1000000 simulations for a game of 5 players\n"
     ]
    },
    {
     "output_type": "display_data",
     "data": {
      "text/plain": [
       "  0%|          | 0/1000000 [00:00<?, ?it/s]"
      ],
      "application/vnd.jupyter.widget-view+json": {
       "version_major": 2,
       "version_minor": 0,
       "model_id": "56ad528b15fd4771a9e24d0941d09189"
      }
     },
     "metadata": {}
    }
   ],
   "metadata": {}
  },
  {
   "cell_type": "code",
   "execution_count": 264,
   "source": [
    "# Adding 500000 simulations to the previous results\n",
    "sim = runSimulations(5, 500000, append = sim)"
   ],
   "outputs": [
    {
     "output_type": "stream",
     "name": "stdout",
     "text": [
      "Adding 500000 simulations for a game of 5 players\n"
     ]
    },
    {
     "output_type": "display_data",
     "data": {
      "text/plain": [
       "  0%|          | 0/500000 [00:00<?, ?it/s]"
      ],
      "application/vnd.jupyter.widget-view+json": {
       "version_major": 2,
       "version_minor": 0,
       "model_id": "f761b275a5b64a4486f53b17f2832708"
      }
     },
     "metadata": {}
    }
   ],
   "metadata": {}
  },
  {
   "cell_type": "code",
   "execution_count": 265,
   "source": [
    "# Saving the dictionary with results\n",
    "saveRaw(sim, 5)"
   ],
   "outputs": [
    {
     "output_type": "stream",
     "name": "stdout",
     "text": [
      "Raw data file saved at results/winrate_5_raw.pickle!\n"
     ]
    }
   ],
   "metadata": {}
  },
  {
   "cell_type": "code",
   "execution_count": 8,
   "source": [
    "# Loading the dictionary\n",
    "sim = loadRaw(5)"
   ],
   "outputs": [
    {
     "output_type": "stream",
     "name": "stdout",
     "text": [
      "Data loaded from results/winrate_5_raw.pickle!\n"
     ]
    }
   ],
   "metadata": {}
  },
  {
   "cell_type": "code",
   "execution_count": 9,
   "source": [
    "# Cleaning the dictionary and converting it to a DataFrame\n",
    "sim_cleaned = clean(sim, 5)"
   ],
   "outputs": [
    {
     "output_type": "stream",
     "name": "stdout",
     "text": [
      "Converted dictionary to DataFrame and cleaned it!\n"
     ]
    }
   ],
   "metadata": {}
  },
  {
   "cell_type": "code",
   "execution_count": 10,
   "source": [
    "sim_cleaned"
   ],
   "outputs": [
    {
     "output_type": "execute_result",
     "data": {
      "text/plain": [
       "               name  wins  ties  total_games  winrate\n",
       "AS, AH, AD  A trail   360     0          360      1.0\n",
       "AC, AS, AH  A trail   321     0          321      1.0\n",
       "AS, AC, AD  A trail   368     0          368      1.0\n",
       "AC, AH, AD  A trail   342     0          342      1.0\n",
       "KD, KS, KH  K trail   316     0          316      1.0\n",
       "...             ...   ...   ...          ...      ...\n",
       "3C, 5D, 2H    5-top     0     0          355      0.0\n",
       "5H, 2C, 3D    5-top     0     0          328      0.0\n",
       "5S, 2H, 3D    5-top     0     0          344      0.0\n",
       "2C, 3D, 5C    5-top     0     0          320      0.0\n",
       "2S, 3S, 5C    5-top     0     0          347      0.0\n",
       "\n",
       "[22100 rows x 5 columns]"
      ],
      "text/html": [
       "<div>\n",
       "<style scoped>\n",
       "    .dataframe tbody tr th:only-of-type {\n",
       "        vertical-align: middle;\n",
       "    }\n",
       "\n",
       "    .dataframe tbody tr th {\n",
       "        vertical-align: top;\n",
       "    }\n",
       "\n",
       "    .dataframe thead th {\n",
       "        text-align: right;\n",
       "    }\n",
       "</style>\n",
       "<table border=\"1\" class=\"dataframe\">\n",
       "  <thead>\n",
       "    <tr style=\"text-align: right;\">\n",
       "      <th></th>\n",
       "      <th>name</th>\n",
       "      <th>wins</th>\n",
       "      <th>ties</th>\n",
       "      <th>total_games</th>\n",
       "      <th>winrate</th>\n",
       "    </tr>\n",
       "  </thead>\n",
       "  <tbody>\n",
       "    <tr>\n",
       "      <th>AS, AH, AD</th>\n",
       "      <td>A trail</td>\n",
       "      <td>360</td>\n",
       "      <td>0</td>\n",
       "      <td>360</td>\n",
       "      <td>1.0</td>\n",
       "    </tr>\n",
       "    <tr>\n",
       "      <th>AC, AS, AH</th>\n",
       "      <td>A trail</td>\n",
       "      <td>321</td>\n",
       "      <td>0</td>\n",
       "      <td>321</td>\n",
       "      <td>1.0</td>\n",
       "    </tr>\n",
       "    <tr>\n",
       "      <th>AS, AC, AD</th>\n",
       "      <td>A trail</td>\n",
       "      <td>368</td>\n",
       "      <td>0</td>\n",
       "      <td>368</td>\n",
       "      <td>1.0</td>\n",
       "    </tr>\n",
       "    <tr>\n",
       "      <th>AC, AH, AD</th>\n",
       "      <td>A trail</td>\n",
       "      <td>342</td>\n",
       "      <td>0</td>\n",
       "      <td>342</td>\n",
       "      <td>1.0</td>\n",
       "    </tr>\n",
       "    <tr>\n",
       "      <th>KD, KS, KH</th>\n",
       "      <td>K trail</td>\n",
       "      <td>316</td>\n",
       "      <td>0</td>\n",
       "      <td>316</td>\n",
       "      <td>1.0</td>\n",
       "    </tr>\n",
       "    <tr>\n",
       "      <th>...</th>\n",
       "      <td>...</td>\n",
       "      <td>...</td>\n",
       "      <td>...</td>\n",
       "      <td>...</td>\n",
       "      <td>...</td>\n",
       "    </tr>\n",
       "    <tr>\n",
       "      <th>3C, 5D, 2H</th>\n",
       "      <td>5-top</td>\n",
       "      <td>0</td>\n",
       "      <td>0</td>\n",
       "      <td>355</td>\n",
       "      <td>0.0</td>\n",
       "    </tr>\n",
       "    <tr>\n",
       "      <th>5H, 2C, 3D</th>\n",
       "      <td>5-top</td>\n",
       "      <td>0</td>\n",
       "      <td>0</td>\n",
       "      <td>328</td>\n",
       "      <td>0.0</td>\n",
       "    </tr>\n",
       "    <tr>\n",
       "      <th>5S, 2H, 3D</th>\n",
       "      <td>5-top</td>\n",
       "      <td>0</td>\n",
       "      <td>0</td>\n",
       "      <td>344</td>\n",
       "      <td>0.0</td>\n",
       "    </tr>\n",
       "    <tr>\n",
       "      <th>2C, 3D, 5C</th>\n",
       "      <td>5-top</td>\n",
       "      <td>0</td>\n",
       "      <td>0</td>\n",
       "      <td>320</td>\n",
       "      <td>0.0</td>\n",
       "    </tr>\n",
       "    <tr>\n",
       "      <th>2S, 3S, 5C</th>\n",
       "      <td>5-top</td>\n",
       "      <td>0</td>\n",
       "      <td>0</td>\n",
       "      <td>347</td>\n",
       "      <td>0.0</td>\n",
       "    </tr>\n",
       "  </tbody>\n",
       "</table>\n",
       "<p>22100 rows × 5 columns</p>\n",
       "</div>"
      ]
     },
     "metadata": {},
     "execution_count": 10
    }
   ],
   "metadata": {}
  },
  {
   "cell_type": "code",
   "execution_count": 11,
   "source": [
    "# Saving the cleaned DataFrame\n",
    "saveCleaned(sim_cleaned, 5)"
   ],
   "outputs": [
    {
     "output_type": "stream",
     "name": "stdout",
     "text": [
      "Cleaned data file saved at results/winrate_5_cleaned.csv!\n"
     ]
    }
   ],
   "metadata": {}
  },
  {
   "cell_type": "code",
   "execution_count": 12,
   "source": [
    "# Retrieving the number of simulations run for games with 5 players\n",
    "simulationsRun(5)"
   ],
   "outputs": [
    {
     "output_type": "stream",
     "name": "stdout",
     "text": [
      "1500000 simulations have been run for 5 players\n"
     ]
    }
   ],
   "metadata": {}
  },
  {
   "cell_type": "code",
   "execution_count": null,
   "source": [],
   "outputs": [],
   "metadata": {}
  }
 ],
 "metadata": {
  "orig_nbformat": 4,
  "language_info": {
   "name": "python",
   "version": "3.7.10",
   "mimetype": "text/x-python",
   "codemirror_mode": {
    "name": "ipython",
    "version": 3
   },
   "pygments_lexer": "ipython3",
   "nbconvert_exporter": "python",
   "file_extension": ".py"
  },
  "kernelspec": {
   "name": "python3",
   "display_name": "Python 3.7.10 64-bit ('base': conda)"
  },
  "interpreter": {
   "hash": "ca1c830a10ba29c5100ad164ea2a1db1cddd11e374eab40281c0b03d7a83cd65"
  }
 },
 "nbformat": 4,
 "nbformat_minor": 2
}